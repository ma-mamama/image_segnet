{
 "metadata": {
  "language_info": {
   "codemirror_mode": {
    "name": "ipython",
    "version": 3
   },
   "file_extension": ".py",
   "mimetype": "text/x-python",
   "name": "python",
   "nbconvert_exporter": "python",
   "pygments_lexer": "ipython3",
   "version": "3.7.0"
  },
  "orig_nbformat": 2,
  "kernelspec": {
   "name": "python3",
   "display_name": "Python 3.7.0 64-bit",
   "metadata": {
    "interpreter": {
     "hash": "1d75f98c9ad3ec30ab7c84fa686dc7aa86a171e4bea39d6af85ee7d51ce1ba51"
    }
   }
  }
 },
 "nbformat": 4,
 "nbformat_minor": 2,
 "cells": [
  {
   "cell_type": "code",
   "execution_count": null,
   "metadata": {},
   "outputs": [],
   "source": [
    "#参考：https://qiita.com/otakoma/items/2f40e583980013acb2f7?utm_campaign=popular_items&utm_medium=feed&utm_source=popular_items"
   ]
  },
  {
   "cell_type": "code",
   "execution_count": null,
   "metadata": {},
   "outputs": [],
   "source": [
    "#labelmeでアノテーションしたjsonファイルからラベル画像を作成"
   ]
  },
  {
   "cell_type": "code",
   "execution_count": 2,
   "metadata": {},
   "outputs": [],
   "source": [
    "import json\n",
    "import glob\n",
    "from PIL import Image, ImageDraw\n",
    "import os"
   ]
  },
  {
   "cell_type": "code",
   "execution_count": 3,
   "metadata": {},
   "outputs": [],
   "source": [
    "lbl_dir_gen = \"./image_segnet/lbl/\""
   ]
  },
  {
   "cell_type": "code",
   "execution_count": 5,
   "metadata": {},
   "outputs": [],
   "source": [
    "pil_img = Image.open('./image_segnet/img/0resized.jpg')\n",
    "pil_img = pil_img.convert(\"P\")\n",
    "palette = pil_img.getpalette()"
   ]
  },
  {
   "cell_type": "code",
   "execution_count": 6,
   "metadata": {},
   "outputs": [],
   "source": [
    "path=('./image_segnet/img_json/*.json')\n",
    "fileList=glob.glob(path)"
   ]
  },
  {
   "cell_type": "code",
   "execution_count": 10,
   "metadata": {},
   "outputs": [],
   "source": [
    "for i,f in enumerate(fileList):\n",
    "    file = open(f, 'r')\n",
    "\n",
    "    jsonData = json.load(file)\n",
    "    h = jsonData['imageHeight']\n",
    "    w = jsonData['imageWidth']\n",
    "    points = jsonData['shapes'][0]['points']\n",
    "    array = []\n",
    "    for j,p in enumerate(points):\n",
    "        array.append(p[0])\n",
    "        array.append(p[1])\n",
    "\n",
    "    if(len(jsonData['shapes']) > 1):\n",
    "        points2 = jsonData['shapes'][1]['point']\n",
    "        array2 = []\n",
    "        for j,p in enumerate(point2):\n",
    "            array2.append(p[0])\n",
    "            array2.append(p[1])\n",
    "\n",
    "    basename = os.path.basename(f)\n",
    "    root_ext_pair = os.path.splitext(basename)\n",
    "    file.close()\n",
    "\n",
    "    im = Image.new('P', (w, h), )\n",
    "    draw = ImageDraw.Draw(im)\n",
    "    draw.polygon(array,  fill=1 ,outline=255) #fill=21\n",
    "    #if(len(jsonData['shapes']) > 1):\n",
    "    #   draw.polygon(array2, fill=21, outline=255) #fill=21\n",
    "    im.putpalette(palette)\n",
    "    im.save(lbl_dir_gen + root_ext_pair[0] + \".png\", quality = 100)"
   ]
  },
  {
   "cell_type": "code",
   "execution_count": null,
   "metadata": {},
   "outputs": [],
   "source": []
  }
 ]
}